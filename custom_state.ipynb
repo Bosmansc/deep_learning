{
 "cells": [
  {
   "cell_type": "markdown",
   "id": "109f425a-fc14-407b-85ab-95933092667b",
   "metadata": {},
   "source": [
    "# Custom Gym State"
   ]
  },
  {
   "cell_type": "markdown",
   "id": "bb270f12-86d1-4cec-8bef-124c07cfcdc7",
   "metadata": {},
   "source": [
    "## imports"
   ]
  },
  {
   "cell_type": "code",
   "execution_count": 20,
   "id": "12a273d0-909d-47e6-a7bb-10743d2e2f1c",
   "metadata": {},
   "outputs": [
    {
     "data": {
      "text/plain": [
       "'/home/cbosmans/Documents/Projects/openai/openai/bin/python'"
      ]
     },
     "execution_count": 20,
     "metadata": {},
     "output_type": "execute_result"
    }
   ],
   "source": [
    "import sys\n",
    "sys.executable"
   ]
  },
  {
   "cell_type": "code",
   "execution_count": 21,
   "id": "f5dfced7-fb9e-4b76-9d6a-7272d3f1cbb1",
   "metadata": {},
   "outputs": [],
   "source": [
    "import gym \n",
    "import random\n",
    "from nes_py.wrappers import JoypadSpace\n",
    "import gym_tetris\n",
    "from gym_tetris.actions import MOVEMENT, SIMPLE_MOVEMENT\n",
    "import cv2\n",
    "import time\n",
    "import matplotlib.pyplot as plt"
   ]
  },
  {
   "cell_type": "code",
   "execution_count": 22,
   "id": "08211ab1-1312-40ef-af03-fabdc33c6a99",
   "metadata": {},
   "outputs": [],
   "source": [
    "import tensorflow as tf\n",
    "import numpy as np\n",
    "from tensorflow.keras.datasets import mnist\n",
    "from tensorflow.keras.models import Sequential\n",
    "from tensorflow.keras.layers import Dense, Dropout, Flatten, Conv2D, BatchNormalization, Activation, MaxPooling2D\n",
    "from tensorflow.keras.optimizers import Adam\n",
    "from tensorflow.keras.constraints import max_norm\n",
    "from tensorflow.keras.callbacks import EarlyStopping, ModelCheckpoint\n",
    "from tensorflow.keras.models import load_model"
   ]
  },
  {
   "cell_type": "code",
   "execution_count": 23,
   "id": "a704327b-8390-4c42-98c0-bb62becbddd2",
   "metadata": {},
   "outputs": [],
   "source": [
    "## use pip install --upgrade --force-reinstall  git+https://github.com/Bosmansc/tetris_openai.git\n",
    "## not pip install  pip install keras-rl2, this is not compatible with tetris environment\n",
    "\n",
    "from rl.agents import DQNAgent\n",
    "from rl.policy import BoltzmannQPolicy\n",
    "from rl.memory import SequentialMemory"
   ]
  },
  {
   "cell_type": "markdown",
   "id": "7068b3a6-78e3-407d-9743-5d40273cecbf",
   "metadata": {},
   "source": [
    "## Env"
   ]
  },
  {
   "cell_type": "code",
   "execution_count": 24,
   "id": "f54ae88a-addb-4675-b5ac-9df93ea4fc42",
   "metadata": {},
   "outputs": [],
   "source": [
    "env = gym_tetris.make('TetrisA-v3') ## A V3 rewards lines and penalizes height\n",
    "env = JoypadSpace(env, SIMPLE_MOVEMENT) ## use simple movement for simplicity\n",
    "\n",
    "states = env.observation_space.shape[0]\n",
    "actions = env.action_space.n"
   ]
  },
  {
   "cell_type": "code",
   "execution_count": 25,
   "id": "a5e4a732-70b6-43c3-bb4c-965d423aa3c0",
   "metadata": {},
   "outputs": [
    {
     "name": "stdout",
     "output_type": "stream",
     "text": [
      "there are 240 default states and 6 actions\n"
     ]
    }
   ],
   "source": [
    "print(\"there are {} default states and {} actions\".format(states, actions))"
   ]
  },
  {
   "cell_type": "markdown",
   "id": "a5b23a1f-7cfe-46af-825a-0fd46d3cd455",
   "metadata": {},
   "source": [
    "## Env State wrapper"
   ]
  },
  {
   "cell_type": "code",
   "execution_count": 26,
   "id": "8e49a8e1-00a9-482a-b6a7-9fd9a93592a0",
   "metadata": {},
   "outputs": [],
   "source": [
    "class ObservationWrapper(gym.ObservationWrapper):\n",
    "    def __init__(self, env):\n",
    "        super().__init__(env)\n",
    "    \n",
    "    def observation(self, obs):\n",
    "        obs = self._resize(obs)\n",
    "        return obs\n",
    "    \n",
    "    def _resize(self, img, downsize=(10,20)):\n",
    "        resized = cv2.resize(img[47:209,95:176],\n",
    "                             dsize=downsize,\n",
    "                             interpolation=cv2.INTER_CUBIC)\n",
    "        resized = cv2.cvtColor(resized, cv2.COLOR_BGR2GRAY)\n",
    "        return (resized>1).astype(int)"
   ]
  },
  {
   "cell_type": "code",
   "execution_count": 27,
   "id": "03415264-253f-498b-acda-19ebf501d52e",
   "metadata": {},
   "outputs": [
    {
     "name": "stdout",
     "output_type": "stream",
     "text": [
      "there are 240 states and 6 actions\n"
     ]
    }
   ],
   "source": [
    "env_custom = ObservationWrapper(gym.make(\"TetrisA-v3\"))\n",
    "env_custom = JoypadSpace(env_custom, SIMPLE_MOVEMENT) ## use simple movement for simplicity\n",
    "\n",
    "states = env_custom.observation_space.shape[0]\n",
    "actions = env_custom.action_space.n\n",
    "\n",
    "print(\"there are {} states and {} actions\".format(states, actions))"
   ]
  },
  {
   "cell_type": "code",
   "execution_count": 28,
   "id": "9c395192-e000-4d12-8005-779ee738f576",
   "metadata": {},
   "outputs": [
    {
     "data": {
      "image/png": "[encoded data removed]",
      "text/plain": [
       "<Figure size 432x288 with 1 Axes>"
      ]
     },
     "metadata": {
      "needs_background": "light"
     },
     "output_type": "display_data"
    },
    {
     "name": "stdout",
     "output_type": "stream",
     "text": [
      "(20, 10)\n"
     ]
    }
   ],
   "source": [
    "state = env_custom.reset()\n",
    "plt.imshow(state)\n",
    "plt.show()\n",
    "print(state.shape)"
   ]
  },
  {
   "cell_type": "code",
   "execution_count": 29,
   "id": "dcc35450-a74f-4c52-97a1-ba154f95f044",
   "metadata": {},
   "outputs": [],
   "source": [
    "## random env to check if everything works\n",
    "\n",
    "episodes = 1\n",
    "for episode in range(1, episodes+1):\n",
    "    state = env_custom.reset()\n",
    "    done = False\n",
    "    score = 0 \n",
    "    \n",
    "    for i in range(100):\n",
    "        env_custom.render()\n",
    "        action = env.action_space.sample()\n",
    "       # action = 2\n",
    "       # action = random.sample([1, 2], 1)[0]\n",
    "        n_state, reward, done, info = env_custom.step(action)\n",
    "        #print(n_state)\n",
    "        score+=reward\n"
   ]
  },
  {
   "cell_type": "code",
   "execution_count": 14,
   "id": "7390e038-5c7b-44e5-bc00-619829aab966",
   "metadata": {},
   "outputs": [],
   "source": [
    "env.close()"
   ]
  },
  {
   "cell_type": "markdown",
   "id": "83812cb6-8077-42f8-86af-56a8edce9769",
   "metadata": {},
   "source": [
    "# Deep Q learning"
   ]
  },
  {
   "cell_type": "code",
   "execution_count": 30,
   "id": "93d667de-fd32-4b47-b098-7c4dfe450f29",
   "metadata": {},
   "outputs": [],
   "source": [
    "def build_model_conv(states, actions):\n",
    "    \n",
    "    ## edit state based on code Seyedomid\n",
    "    #resize(state)\n",
    "    \n",
    "    # Network defined by the Deepmind paper\n",
    "    model = tf.keras.models.Sequential()\n",
    "    \n",
    "    model.add(Conv2D(32, (3, 3), padding='same', kernel_initializer='he_uniform', \n",
    "                     kernel_constraint=max_norm(4), input_shape=(1, 20, 10)))\n",
    "    model.add(BatchNormalization())\n",
    "    model.add(Activation('relu'))\n",
    "    \n",
    "  #  model.add(Conv2D(64, (3, 3), padding='same', kernel_initializer='he_uniform'))\n",
    "  #  model.add(BatchNormalization())\n",
    "  #  model.add(Activation('relu'))\n",
    "    \n",
    "  #  model.add(Conv2D(64, (3, 3), padding='same', kernel_initializer='he_uniform'))\n",
    "  #  model.add(BatchNormalization())\n",
    "  #  model.add(Activation('relu'))\n",
    "  #  model.add(MaxPooling2D(pool_size=(2,2)))\n",
    "    \n",
    "    \n",
    "    # end of convolutional layers, start of 'hidden' dense layers \n",
    "    model.add(Flatten())\n",
    "    model.add(Dense(128, kernel_initializer='he_uniform', kernel_constraint=max_norm(3)))\n",
    "    model.add(BatchNormalization())\n",
    "    model.add(Activation('relu'))\n",
    "    model.add(Dropout(0.5))\n",
    "    \n",
    "    # Final dense layer\n",
    "    model.add(Dense(actions, activation='linear'))\n",
    "    \n",
    "    return model"
   ]
  },
  {
   "cell_type": "code",
   "execution_count": 31,
   "id": "77b886e3-d8d1-4879-b728-dd7ea8d2c052",
   "metadata": {},
   "outputs": [
    {
     "name": "stdout",
     "output_type": "stream",
     "text": [
      "Model: \"sequential_2\"\n",
      "_________________________________________________________________\n",
      "Layer (type)                 Output Shape              Param #   \n",
      "=================================================================\n",
      "conv2d_2 (Conv2D)            (None, 1, 20, 32)         2912      \n",
      "_________________________________________________________________\n",
      "batch_normalization_4 (Batch (None, 1, 20, 32)         128       \n",
      "_________________________________________________________________\n",
      "activation_4 (Activation)    (None, 1, 20, 32)         0         \n",
      "_________________________________________________________________\n",
      "flatten_2 (Flatten)          (None, 640)               0         \n",
      "_________________________________________________________________\n",
      "dense_4 (Dense)              (None, 128)               82048     \n",
      "_________________________________________________________________\n",
      "batch_normalization_5 (Batch (None, 128)               512       \n",
      "_________________________________________________________________\n",
      "activation_5 (Activation)    (None, 128)               0         \n",
      "_________________________________________________________________\n",
      "dropout_2 (Dropout)          (None, 128)               0         \n",
      "_________________________________________________________________\n",
      "dense_5 (Dense)              (None, 6)                 774       \n",
      "=================================================================\n",
      "Total params: 86,374\n",
      "Trainable params: 86,054\n",
      "Non-trainable params: 320\n",
      "_________________________________________________________________\n"
     ]
    }
   ],
   "source": [
    "model = build_model_conv(states, actions)\n",
    "model.summary()"
   ]
  },
  {
   "cell_type": "code",
   "execution_count": 32,
   "id": "15d1af0a-7b4e-4eaa-8fba-db11dc9807b1",
   "metadata": {},
   "outputs": [],
   "source": [
    "def build_agent(model, actions):\n",
    "    policy = BoltzmannQPolicy()\n",
    "    memory = SequentialMemory(limit=50000, window_length=1)\n",
    "    dqn = DQNAgent(model=model, memory=memory, policy=policy, \n",
    "                  nb_actions=actions, nb_steps_warmup=10, target_model_update=1e-2)\n",
    "    return dqn"
   ]
  },
  {
   "cell_type": "code",
   "execution_count": 33,
   "id": "08a2ac7c-f672-4d66-95bf-451b1c22291e",
   "metadata": {},
   "outputs": [
    {
     "name": "stdout",
     "output_type": "stream",
     "text": [
      "Training for 20000 steps ...\n",
      "Interval 1 (0 steps performed)\n",
      "10000/10000 [==============================] - 166s 17ms/step - reward: -0.0016\n",
      "Interval 2 (10000 steps performed)\n",
      "10000/10000 [==============================] - 161s 16ms/step - reward: -0.0020\n",
      "done, took 327.537 seconds\n"
     ]
    },
    {
     "data": {
      "text/plain": [
       "<tensorflow.python.keras.callbacks.History at 0x7f0f21b63850>"
      ]
     },
     "execution_count": 33,
     "metadata": {},
     "output_type": "execute_result"
    }
   ],
   "source": [
    "dqn = build_agent(model, actions)\n",
    "dqn.compile(Adam(lr=1e-3), metrics=['mae'])\n",
    "dqn.fit(env_custom, nb_steps=20000, visualize=True)"
   ]
  },
  {
   "cell_type": "code",
   "execution_count": null,
   "id": "50bb3dd9-feb0-420f-aad6-3e2f2bbdf9e7",
   "metadata": {},
   "outputs": [],
   "source": [
    "scores = dqn.test(env_custom, nb_episodes=1, visualize=True)\n",
    "print(np.mean(scores.history['episode_reward']))"
   ]
  },
  {
   "cell_type": "code",
   "execution_count": null,
   "id": "509b7599-ece6-4d17-8c85-8d5a40d89757",
   "metadata": {},
   "outputs": [],
   "source": []
  }
 ],
 "metadata": {
  "kernelspec": {
   "display_name": "openai",
   "language": "python",
   "name": "openai"
  },
  "language_info": {
   "codemirror_mode": {
    "name": "ipython",
    "version": 3
   },
   "file_extension": ".py",
   "mimetype": "text/x-python",
   "name": "python",
   "nbconvert_exporter": "python",
   "pygments_lexer": "ipython3",
   "version": "3.8.9"
  }
 },
 "nbformat": 4,
 "nbformat_minor": 5
}
